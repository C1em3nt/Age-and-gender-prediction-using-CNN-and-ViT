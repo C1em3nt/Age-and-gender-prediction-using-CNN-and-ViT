{
 "cells": [
  {
   "cell_type": "code",
   "execution_count": 10,
   "id": "ddb883d8",
   "metadata": {},
   "outputs": [],
   "source": [
    "import numpy as np\n",
    "import pandas as pd\n",
    "import matplotlib.pyplot as plt"
   ]
  },
  {
   "cell_type": "code",
   "execution_count": 11,
   "id": "48919b8e",
   "metadata": {
    "scrolled": false
   },
   "outputs": [],
   "source": [
    "root = 'AFAD-Full'\n",
    "files = open(f'{root}/AFAD-Full.txt', 'r').read().split('\\n')[:-1]\n",
    "\n",
    "total_files = list()\n",
    "age_list = list()\n",
    "gender_list = list()\n",
    "for file in files:\n",
    "    age = int(file.split('/')[1])\n",
    "    gender = int(file.split('/')[2])\n",
    "    if age <= 40:\n",
    "        age_list.append(int(age))\n",
    "        gender_list.append(int(gender))\n",
    "        total_files.append(file)\n",
    "        \n",
    "total_files = pd.Series(total_files)\n",
    "np.random.seed(1)\n",
    "np.random.shuffle(total_files)"
   ]
  },
  {
   "cell_type": "code",
   "execution_count": 12,
   "id": "645a0447",
   "metadata": {},
   "outputs": [
    {
     "data": {
      "image/png": "[encoded data removed]",
      "text/plain": [
       "<Figure size 720x360 with 1 Axes>"
      ]
     },
     "metadata": {
      "needs_background": "light"
     },
     "output_type": "display_data"
    }
   ],
   "source": [
    "index = np.array([i for i in range(15, 41)])\n",
    "male_age_count = [0] * 41\n",
    "female_age_count = [0] * 41\n",
    "for age, gender in zip(age_list, gender_list):\n",
    "    if gender == 111:\n",
    "        male_age_count[age] += 1\n",
    "    else:\n",
    "        female_age_count[age] += 1\n",
    "    \n",
    "plt.figure(figsize=(10, 5))\n",
    "plt.grid(axis='y', alpha=0.5)\n",
    "plt.bar(x=index-0.2, \n",
    "        height=male_age_count[15:41],\n",
    "        width=0.3,\n",
    "        color='#000099',\n",
    "        alpha=0.8,\n",
    "        label='male')\n",
    "plt.bar(x=index+0.2, \n",
    "        height=female_age_count[15:41],\n",
    "        width=0.3,\n",
    "        color='#AA0000',\n",
    "        alpha=0.8,\n",
    "        label='female')\n",
    "plt.xticks(index)\n",
    "plt.legend()\n",
    "\n",
    "plt.show()"
   ]
  },
  {
   "cell_type": "code",
   "execution_count": 14,
   "id": "ecb1a171",
   "metadata": {},
   "outputs": [],
   "source": [
    "train_files = total_files[:int(len(total_files) * 0.8)]\n",
    "val_files = total_files[int(len(total_files) * 0.8):]\n",
    "\n",
    "df = list()\n",
    "for file in train_files:\n",
    "    file_name = file.split('/')[-1]\n",
    "    if('jpg' not in file_name):\n",
    "        continue\n",
    "    file_path = file.replace('./', '')\n",
    "    age = int(file.split('/')[1])\n",
    "    gender = {111: 0, 112:1}[int(file.split('/')[2])]\n",
    "    df.append([file_name, file_path, age, gender])\n",
    "df = pd.DataFrame(df)\n",
    "df.columns = ['file', 'path', 'age', 'gender']\n",
    "df.to_csv(f'{root}/train.csv', index=False)\n",
    "\n",
    "df = list()\n",
    "for file in val_files:\n",
    "    file_name = file.split('/')[-1]\n",
    "    if('jpg' not in file_name):\n",
    "        continue\n",
    "    file_path = file.replace('./', '')\n",
    "    age = int(file.split('/')[1])\n",
    "    gender = {111: 0, 112:1}[int(file.split('/')[2])]\n",
    "    df.append([file_name, file_path, age, gender])\n",
    "df = pd.DataFrame(df)\n",
    "df.columns = ['file', 'path', 'age', 'gender']\n",
    "df.sort_values(by=['path'])\n",
    "df.to_csv(f'{root}/val.csv', index=False)"
   ]
  },
  {
   "cell_type": "code",
   "execution_count": null,
   "id": "516c26d3",
   "metadata": {},
   "outputs": [],
   "source": []
  },
  {
   "cell_type": "code",
   "execution_count": null,
   "id": "8098a2d7",
   "metadata": {},
   "outputs": [],
   "source": []
  }
 ],
 "metadata": {
  "kernelspec": {
   "display_name": "Python 3 (ipykernel)",
   "language": "python",
   "name": "python3"
  },
  "language_info": {
   "codemirror_mode": {
    "name": "ipython",
    "version": 3
   },
   "file_extension": ".py",
   "mimetype": "text/x-python",
   "name": "python",
   "nbconvert_exporter": "python",
   "pygments_lexer": "ipython3",
   "version": "3.9.7"
  }
 },
 "nbformat": 4,
 "nbformat_minor": 5
}
